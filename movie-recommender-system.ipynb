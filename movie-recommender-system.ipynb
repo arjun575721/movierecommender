{
 "cells": [
  {
   "cell_type": "code",
   "execution_count": null,
   "id": "b6a177ca-da9e-4f6d-81b3-00ecd982dba2",
   "metadata": {},
   "outputs": [],
   "source": [
    "import numpy as np\n",
    "import pandas as pd"
   ]
  },
  {
   "cell_type": "code",
   "execution_count": null,
   "id": "c216768e-5af9-409e-a7cb-7fc67cb79ac5",
   "metadata": {},
   "outputs": [],
   "source": [
    "movies=pd.read_csv('tmdb_5000_movies.csv')\n",
    "credits=pd.read_csv('tmdb_5000_credits.csv')"
   ]
  },
  {
   "cell_type": "code",
   "execution_count": null,
   "id": "1b5789e4-0833-4d21-b1e2-ba94d6ae3f01",
   "metadata": {},
   "outputs": [],
   "source": [
    "movies.head(1)"
   ]
  },
  {
   "cell_type": "code",
   "execution_count": null,
   "id": "4b81b237-2908-4ca8-9d8b-0a066e843fd8",
   "metadata": {},
   "outputs": [],
   "source": [
    "credits.head(1)['crew'].values\n"
   ]
  },
  {
   "cell_type": "code",
   "execution_count": null,
   "id": "6b4240d1-d61a-4bb8-b000-4ee1fda18d44",
   "metadata": {},
   "outputs": [],
   "source": [
    "movies= movies.merge(credits, on='title')   #here both are merged based on their titles"
   ]
  },
  {
   "cell_type": "markdown",
   "id": "52690d5c-de20-4678-96aa-68f1c6d71c00",
   "metadata": {},
   "source": [
    "movies.head(1)"
   ]
  },
  {
   "cell_type": "code",
   "execution_count": null,
   "id": "8a8eba7c-0440-4a26-8389-51bfc9e3bd6a",
   "metadata": {},
   "outputs": [],
   "source": [
    "movies.head(1)"
   ]
  },
  {
   "cell_type": "code",
   "execution_count": null,
   "id": "d804759f-d974-445b-aec2-5f563cc138e7",
   "metadata": {},
   "outputs": [],
   "source": [
    "#genres\n",
    "#id\n",
    "#keywords\n",
    "#title \n",
    "#overview\n",
    "#cast \n",
    "#movies[['id'],['genres'],['id'],['keywords'],['title'],['overview'],['cast'],['crew']]\n",
    "movies=movies[['id', 'genres', 'keywords', 'title', 'overview', 'cast', 'crew']]\n"
   ]
  },
  {
   "cell_type": "code",
   "execution_count": null,
   "id": "f60bce7e-57c5-4992-9540-b136f93ee146",
   "metadata": {},
   "outputs": [],
   "source": [
    "movies.head()"
   ]
  },
  {
   "cell_type": "code",
   "execution_count": null,
   "id": "ea3a908e-15f9-423d-9ef7-723d2d115369",
   "metadata": {},
   "outputs": [],
   "source": [
    "movies.isnull().sum()"
   ]
  },
  {
   "cell_type": "code",
   "execution_count": null,
   "id": "24938d63-d608-4774-809b-1876af55cae6",
   "metadata": {},
   "outputs": [],
   "source": [
    "movies.dropna(inplace=True)"
   ]
  },
  {
   "cell_type": "code",
   "execution_count": null,
   "id": "aabff906-8486-460b-82e0-a347ae4b6d19",
   "metadata": {},
   "outputs": [],
   "source": [
    "movies.isnull().sum()"
   ]
  },
  {
   "cell_type": "code",
   "execution_count": null,
   "id": "c951216f-9298-4540-84bf-687f624d43c2",
   "metadata": {},
   "outputs": [],
   "source": [
    "movies.duplicated().sum()"
   ]
  },
  {
   "cell_type": "code",
   "execution_count": null,
   "id": "1c16d756-7411-40cf-8cac-c61f0bc0fa0b",
   "metadata": {},
   "outputs": [],
   "source": [
    "movies.drop_duplicates(inplace=True)"
   ]
  },
  {
   "cell_type": "code",
   "execution_count": null,
   "id": "16c976c2-20e8-4b68-a930-ada05b023a83",
   "metadata": {},
   "outputs": [],
   "source": [
    "movies.duplicated().sum()"
   ]
  },
  {
   "cell_type": "code",
   "execution_count": null,
   "id": "b5ab1bce-0fe8-4631-ad1c-92b081018dfc",
   "metadata": {},
   "outputs": [],
   "source": [
    "movies.iloc[0].genres"
   ]
  },
  {
   "cell_type": "code",
   "execution_count": null,
   "id": "e2815b35-210b-4efe-b9c7-056414386d18",
   "metadata": {},
   "outputs": [],
   "source": [
    "import ast\n",
    "\n",
    "def convert(obj):\n",
    "    L = []\n",
    "    for i in ast.literal_eval(obj):\n",
    "        L.append(i['name'])\n",
    "    return L\n"
   ]
  },
  {
   "cell_type": "code",
   "execution_count": null,
   "id": "57db4665-7303-4873-963f-929eaf69ffb5",
   "metadata": {},
   "outputs": [],
   "source": [
    "movies.head()"
   ]
  },
  {
   "cell_type": "code",
   "execution_count": null,
   "id": "9aba237f-3c91-4462-92e4-7df9b107d345",
   "metadata": {},
   "outputs": [],
   "source": [
    "movies['genres']=movies['genres'].apply(convert)"
   ]
  },
  {
   "cell_type": "code",
   "execution_count": null,
   "id": "5936b7a1-a03a-4d77-9f43-8bd7e9c41f6f",
   "metadata": {},
   "outputs": [],
   "source": [
    "movies.head()"
   ]
  },
  {
   "cell_type": "code",
   "execution_count": null,
   "id": "cd5dc072-e4e5-4e18-932e-a63695c6155e",
   "metadata": {},
   "outputs": [],
   "source": [
    "movies['keywords'].apply(convert)"
   ]
  },
  {
   "cell_type": "code",
   "execution_count": null,
   "id": "b845c1b6-24f6-4c74-9061-01f26fe6345c",
   "metadata": {},
   "outputs": [],
   "source": [
    "movies['keywords']= movies['keywords'].apply(convert)"
   ]
  },
  {
   "cell_type": "code",
   "execution_count": null,
   "id": "f640ba81-aacf-47b0-a8db-0ccf554eb7fa",
   "metadata": {},
   "outputs": [],
   "source": [
    "movies.head()"
   ]
  },
  {
   "cell_type": "code",
   "execution_count": null,
   "id": "668ba518-610f-41fd-b7b6-e8dd6cde84b3",
   "metadata": {},
   "outputs": [],
   "source": []
  },
  {
   "cell_type": "code",
   "execution_count": null,
   "id": "f2af01d7-5876-4d70-b101-29099c1b0744",
   "metadata": {},
   "outputs": [],
   "source": [
    "def convert3(obj):\n",
    "    L=[]\n",
    "    count=0\n",
    "    for i in ast.literal_eval(obj):\n",
    "        if count!=3:\n",
    "            L.append(i['name'])\n",
    "            count+=1\n",
    "        else:\n",
    "            break\n",
    "    return L\n",
    "        "
   ]
  },
  {
   "cell_type": "code",
   "execution_count": null,
   "id": "dfc76424-f9ca-4d0a-b1b5-48d2c01832a4",
   "metadata": {},
   "outputs": [],
   "source": [
    "movies['cast'].apply(convert3)"
   ]
  },
  {
   "cell_type": "code",
   "execution_count": null,
   "id": "0adb3449-452c-4bda-be11-ebfffedc6508",
   "metadata": {},
   "outputs": [],
   "source": [
    "movies['cast']=movies['cast'].apply(convert3)"
   ]
  },
  {
   "cell_type": "code",
   "execution_count": null,
   "id": "83f74b72-a245-427f-b028-c77b7dc69372",
   "metadata": {},
   "outputs": [],
   "source": [
    "movies.head()"
   ]
  },
  {
   "cell_type": "code",
   "execution_count": null,
   "id": "dfa3e430-48ea-45fc-b67b-632f8c32bb70",
   "metadata": {},
   "outputs": [],
   "source": [
    "def convertd(obj):\n",
    "    L=[]\n",
    "    for i in ast.literal_eval(obj):\n",
    "        if i['job'] == 'Director':\n",
    "            L.append(i['name'])\n",
    "    return L"
   ]
  },
  {
   "cell_type": "code",
   "execution_count": null,
   "id": "4293e8c1-5adc-458d-bca5-3a978a136f71",
   "metadata": {},
   "outputs": [],
   "source": [
    "movies['crew']=movies['crew'].apply(convertd)"
   ]
  },
  {
   "cell_type": "code",
   "execution_count": null,
   "id": "bee4fea0-096f-48f8-a50f-a3ec7f7467d0",
   "metadata": {},
   "outputs": [],
   "source": []
  },
  {
   "cell_type": "code",
   "execution_count": null,
   "id": "04642d21-cf6b-4987-8479-e4e1b1ea346d",
   "metadata": {},
   "outputs": [],
   "source": [
    "movies.head()"
   ]
  },
  {
   "cell_type": "code",
   "execution_count": null,
   "id": "1948d58f-5f7b-4d4c-b047-11f1971337ef",
   "metadata": {},
   "outputs": [],
   "source": [
    "# Join the list back into a single string and then apply the lowercasing and split logic\n",
    "#movies['overview'] = movies['overview'].apply(lambda x: ' '.join(x))  # Join list into a string\n",
    "movies['overview'].apply(lambda x:x.split())"
   ]
  },
  {
   "cell_type": "code",
   "execution_count": null,
   "id": "55c44d6c-11d8-4fce-bafe-d257ee274270",
   "metadata": {},
   "outputs": [],
   "source": [
    "movies['overview']= movies['overview'].apply(lambda x:x.split())"
   ]
  },
  {
   "cell_type": "code",
   "execution_count": null,
   "id": "3248989b-421d-43ed-9906-7fc84755ff39",
   "metadata": {},
   "outputs": [],
   "source": [
    "movies.head(1)"
   ]
  },
  {
   "cell_type": "code",
   "execution_count": null,
   "id": "30381ae6-cb6c-4edd-b936-23f96745502b",
   "metadata": {},
   "outputs": [],
   "source": [
    "movies['genres']=movies['genres'].apply(lambda x:[i.replace(\" \",\"\") for i in x])\n",
    "movies['keywords']=movies['keywords'].apply(lambda x:[i.replace(\" \",\"\") for i in x])\n",
    "movies['cast']=movies['cast'].apply(lambda x:[i.replace(\" \",\"\") for i in x])\n",
    "movies['crew']=movies['crew'].apply(lambda x:[i.replace(\" \",\"\") for i in x])"
   ]
  },
  {
   "cell_type": "code",
   "execution_count": null,
   "id": "cdca2a7b-cc09-4cda-a0d6-b37790d81c56",
   "metadata": {},
   "outputs": [],
   "source": [
    "movies.head()"
   ]
  },
  {
   "cell_type": "code",
   "execution_count": null,
   "id": "714e342d-b3f1-4d75-922c-595234431ae8",
   "metadata": {},
   "outputs": [],
   "source": [
    "movies['tags']= movies['overview']+ movies['genres'] + movies['keywords'] + movies['cast']+movies['crew']"
   ]
  },
  {
   "cell_type": "code",
   "execution_count": null,
   "id": "00b2b788-e86d-4f97-983c-90c5ffe4ca39",
   "metadata": {},
   "outputs": [],
   "source": [
    "movies.head()"
   ]
  },
  {
   "cell_type": "code",
   "execution_count": null,
   "id": "d16ed3fc-e0da-4d08-bc68-1d2b1e3f1137",
   "metadata": {},
   "outputs": [],
   "source": [
    "new_df= movies[['id','title','tags']]"
   ]
  },
  {
   "cell_type": "code",
   "execution_count": null,
   "id": "4e7610b7-9d39-4027-8c74-cca25f5db22d",
   "metadata": {},
   "outputs": [],
   "source": [
    "new_df"
   ]
  },
  {
   "cell_type": "code",
   "execution_count": null,
   "id": "49a650ca-b41b-48e5-ab69-191aaa3a296c",
   "metadata": {},
   "outputs": [],
   "source": [
    "new_df['tags']=new_df['tags'].apply(lambda x:\" \".join(x))"
   ]
  },
  {
   "cell_type": "code",
   "execution_count": null,
   "id": "33fe7375-0955-4259-8e32-04687541b50b",
   "metadata": {},
   "outputs": [],
   "source": [
    "new_df.head()\n"
   ]
  },
  {
   "cell_type": "code",
   "execution_count": null,
   "id": "b2931f8a-c109-4568-8c82-6dfb3106a1c9",
   "metadata": {},
   "outputs": [],
   "source": [
    "new_df['tags'][0]\n"
   ]
  },
  {
   "cell_type": "code",
   "execution_count": null,
   "id": "4820d52e-1e45-40d7-93cc-0387ba8e2f97",
   "metadata": {},
   "outputs": [],
   "source": [
    "new_df.head()"
   ]
  },
  {
   "cell_type": "code",
   "execution_count": null,
   "id": "5d878bff-a1c0-4110-9a63-39d417d95862",
   "metadata": {},
   "outputs": [],
   "source": [
    "!pip install scikit-learn\n"
   ]
  },
  {
   "cell_type": "code",
   "execution_count": null,
   "id": "a7f7fe69-dd81-4fdd-ba22-54333cb1d7f7",
   "metadata": {},
   "outputs": [],
   "source": [
    "from sklearn.feature_extraction.text import CountVectorizer\n",
    "cv= CountVectorizer(max_features= 5000, stop_words='english')"
   ]
  },
  {
   "cell_type": "code",
   "execution_count": null,
   "id": "f09d4f14-1b16-473a-95a8-c4c4014f0fbe",
   "metadata": {},
   "outputs": [],
   "source": [
    "vectors= cv.fit_transform(new_df['tags']).toarray()"
   ]
  },
  {
   "cell_type": "code",
   "execution_count": null,
   "id": "40f7a223-b43d-471b-a3c3-e3c4f640b409",
   "metadata": {},
   "outputs": [],
   "source": [
    "vectors"
   ]
  },
  {
   "cell_type": "code",
   "execution_count": null,
   "id": "50cdb765-a981-47ed-934e-72897e26ab38",
   "metadata": {},
   "outputs": [],
   "source": [
    "vectors[0]"
   ]
  },
  {
   "cell_type": "code",
   "execution_count": null,
   "id": "50067833-5891-4a4b-9501-839476d418ee",
   "metadata": {},
   "outputs": [],
   "source": [
    "cv.get_feature_names_out()"
   ]
  },
  {
   "cell_type": "code",
   "execution_count": null,
   "id": "92d7dd47-ac6e-4617-a257-2ee734b2d9ff",
   "metadata": {},
   "outputs": [],
   "source": [
    "len(cv.get_feature_names_out())"
   ]
  },
  {
   "cell_type": "code",
   "execution_count": null,
   "id": "0a5dbe3a-0d8f-4588-ba9c-d9b11f0f54c1",
   "metadata": {},
   "outputs": [],
   "source": [
    "feature_names = cv.get_feature_names_out()\n",
    "print(list(feature_names))\n"
   ]
  },
  {
   "cell_type": "code",
   "execution_count": null,
   "id": "0df6be82-7160-47b8-ac40-4540154ba720",
   "metadata": {},
   "outputs": [],
   "source": [
    "!pip install nltk"
   ]
  },
  {
   "cell_type": "code",
   "execution_count": null,
   "id": "c9bbd08a-1228-459d-a55d-d140b5def877",
   "metadata": {},
   "outputs": [],
   "source": [
    "import nltk"
   ]
  },
  {
   "cell_type": "code",
   "execution_count": null,
   "id": "9784387d-938b-4225-87ca-1a65f8d15d4f",
   "metadata": {},
   "outputs": [],
   "source": [
    "from nltk.stem.porter import PorterStemmer\n",
    "ps = PorterStemmer()"
   ]
  },
  {
   "cell_type": "code",
   "execution_count": null,
   "id": "ea206e02-bf1f-4822-b7fa-e2d1fdc278ab",
   "metadata": {},
   "outputs": [],
   "source": [
    "def stem(text):\n",
    "    y=[]\n",
    "\n",
    "    for i in text.split():\n",
    "        y.append(ps.stem(i))\n",
    "\n",
    "    return \" \".join(y)\n",
    "\n",
    "    "
   ]
  },
  {
   "cell_type": "code",
   "execution_count": null,
   "id": "d847a9d0-5778-4aea-816e-12dc6e182ff6",
   "metadata": {},
   "outputs": [],
   "source": [
    "new_df['tags'][0]               #checking for 1 and implementing for all "
   ]
  },
  {
   "cell_type": "code",
   "execution_count": null,
   "id": "330cd0fa-a44d-46ae-a358-9242580888ea",
   "metadata": {},
   "outputs": [],
   "source": [
    "ps.stem('marine')"
   ]
  },
  {
   "cell_type": "code",
   "execution_count": null,
   "id": "9099774e-249c-4e5b-905e-e690dc34be1e",
   "metadata": {},
   "outputs": [],
   "source": []
  },
  {
   "cell_type": "code",
   "execution_count": null,
   "id": "ee3c52cc-981c-4b86-9ab5-77464045f236",
   "metadata": {},
   "outputs": [],
   "source": [
    "stem('In the 22nd century, a paraplegic Marine is dispatched to the moon Pandora on a unique mission, but becomes torn between following orders and protecting an alien civilization. Action Adventure Fantasy ScienceFiction cultureclash future spacewar spacecolony society spacetravel futuristic romance space alien tribe alienplanet cgi marine soldier battle loveaffair antiwar powerrelations mindandsoul 3d SamWorthington ZoeSaldana SigourneyWeaver JamesCameron')"
   ]
  },
  {
   "cell_type": "code",
   "execution_count": null,
   "id": "b38d1382-1556-419a-97c7-fe48f084bc52",
   "metadata": {},
   "outputs": [],
   "source": [
    "new_df['tags']=new_df['tags'].apply(stem)"
   ]
  },
  {
   "cell_type": "code",
   "execution_count": null,
   "id": "a1b02107-284a-4fc3-8ddb-eca763b393a5",
   "metadata": {},
   "outputs": [],
   "source": [
    "new_df['tags'][0]"
   ]
  },
  {
   "cell_type": "code",
   "execution_count": null,
   "id": "ae143f33-108f-4726-9eb4-35e371aee0da",
   "metadata": {},
   "outputs": [],
   "source": [
    "cv.get_feature_names_out()"
   ]
  },
  {
   "cell_type": "code",
   "execution_count": null,
   "id": "596d87e8-f1fd-4301-8cc4-9f8ba45b8417",
   "metadata": {},
   "outputs": [],
   "source": [
    "featurename= cv.get_feature_names_out()\n",
    "print(list(featurename))"
   ]
  },
  {
   "cell_type": "code",
   "execution_count": null,
   "id": "5a91764b-2d5e-4c52-bf41-bc5f0b65cbef",
   "metadata": {},
   "outputs": [],
   "source": [
    "from sklearn.metrics.pairwise import cosine_similarity"
   ]
  },
  {
   "cell_type": "code",
   "execution_count": null,
   "id": "9e51a2b3-0df0-4618-91f9-a30a3419d85c",
   "metadata": {},
   "outputs": [],
   "source": [
    "cosine_similarity(vectors).shape"
   ]
  },
  {
   "cell_type": "code",
   "execution_count": null,
   "id": "9f5c5bc5-9c8d-4f70-8629-305523b45e1f",
   "metadata": {},
   "outputs": [],
   "source": [
    "similarity= cosine_similarity(vectors)"
   ]
  },
  {
   "cell_type": "code",
   "execution_count": null,
   "id": "a86aadff-5600-4ebc-a892-f72f56977083",
   "metadata": {},
   "outputs": [],
   "source": [
    "similarity[0]   #check for 1 also to know the distance"
   ]
  },
  {
   "cell_type": "code",
   "execution_count": null,
   "id": "666f87a8-a6a6-461a-bc92-1fce1bebb0bf",
   "metadata": {},
   "outputs": [],
   "source": [
    "sorted(list(enumerate(similarity[0])),reverse=True, key=lambda x:x[1])[1:6]"
   ]
  },
  {
   "cell_type": "code",
   "execution_count": null,
   "id": "006828a9-3cc1-44d4-ac35-6a65a9c42550",
   "metadata": {},
   "outputs": [],
   "source": [
    "def recommend(movie):\n",
    "    movie_index= new_df[new_df['title']==movie].index[0]\n",
    "    distances= similarity[movie_index]\n",
    "    movies_list= sorted(list(enumerate(distances)),reverse=True, key=lambda x:x[1])[1:6]\n",
    "\n",
    "    for i in movies_list:\n",
    "        print(new_df.iloc[i[0]].title)\n",
    "        #print(i[0])"
   ]
  },
  {
   "cell_type": "code",
   "execution_count": null,
   "id": "9d960e87-9ede-41fb-82c0-4e178ccf2456",
   "metadata": {},
   "outputs": [],
   "source": [
    "recommend('Batman Begins')"
   ]
  },
  {
   "cell_type": "code",
   "execution_count": null,
   "id": "bbbbcec9-83b6-492e-8f2c-046d44fa9893",
   "metadata": {},
   "outputs": [],
   "source": [
    "import pickle"
   ]
  },
  {
   "cell_type": "code",
   "execution_count": null,
   "id": "e72150c7-f35c-4bfa-8380-35e3f68f8cee",
   "metadata": {},
   "outputs": [],
   "source": [
    "pickle.dump(new_df.to_dict(),open('movies_dict.pkl','wb'))"
   ]
  },
  {
   "cell_type": "code",
   "execution_count": null,
   "id": "f77da77a-063d-4182-a163-e243af6e15c3",
   "metadata": {},
   "outputs": [],
   "source": [
    "new_df['title'].values"
   ]
  },
  {
   "cell_type": "code",
   "execution_count": null,
   "id": "396395e8-ac68-41ba-acdf-03e966d1fc09",
   "metadata": {},
   "outputs": [],
   "source": [
    "new_df.to_dict()"
   ]
  },
  {
   "cell_type": "code",
   "execution_count": null,
   "id": "2ee3ca5d-dbb7-474f-a3fe-9a9699ecd269",
   "metadata": {},
   "outputs": [],
   "source": [
    "pickle.dump(similarity,open('similarity.pkl','wb'))"
   ]
  },
  {
   "cell_type": "code",
   "execution_count": null,
   "id": "3d8caa1e-fbc9-4f57-a3bd-38186cda1956",
   "metadata": {},
   "outputs": [],
   "source": []
  }
 ],
 "metadata": {
  "kernelspec": {
   "display_name": "Python 3 (ipykernel)",
   "language": "python",
   "name": "python3"
  },
  "language_info": {
   "codemirror_mode": {
    "name": "ipython",
    "version": 3
   },
   "file_extension": ".py",
   "mimetype": "text/x-python",
   "name": "python",
   "nbconvert_exporter": "python",
   "pygments_lexer": "ipython3",
   "version": "3.11.8"
  }
 },
 "nbformat": 4,
 "nbformat_minor": 5
}
